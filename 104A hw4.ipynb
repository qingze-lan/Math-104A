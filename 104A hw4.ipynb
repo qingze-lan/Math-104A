{
 "cells": [
  {
   "cell_type": "markdown",
   "metadata": {},
   "source": [
    "# Math 104A  HW 4\n",
    "\n",
    "## Qingze Lan  3046380"
   ]
  },
  {
   "cell_type": "markdown",
   "metadata": {},
   "source": [
    "### 1. "
   ]
  },
  {
   "cell_type": "markdown",
   "metadata": {},
   "source": [
    "$f_j$ are real numbers for $j = 0,1,...,N-1$.\n",
    "\n",
    "$$c_0=\\Sigma^{N-1}_{j=0}f_je^0=\\Sigma^{N-1}_{j=0}f_j$$\n",
    "\n",
    "Sum of real numbers are real numbers, therefore, $c_0$ is also a real number. \n",
    "Consider the expression of the problem. $e^{-i2\\pi kj/N}=e^{(-i2\\pi/N)(kj)}=w_N^{kj}$\n",
    "\n",
    "\n",
    "Prove that $w_N^{N-k}=\\overline{w_N^k}$.\n",
    "\n",
    "$$w_N^{N-k}=(e^{-i2\\pi/N})^{N-k}=e^{\\frac{-i2\\pi(N-k)}{N}}=cos(\\frac{-2\\pi(N-k)}{N})+isin(\\frac{-2\\pi(N-k)}{N})=cos(\\frac{2\\pi(N-k)}{N})-isin(\\frac{2\\pi(N-k)}{N})=cos(2\\pi-\\frac{2\\pi k}{N})-isin(2\\pi -\\frac{2\\pi k}{N})$$\n",
    "cos function and sin function has period $2\\pi$, so, $$w_N^{N-k}=cos(-\\frac{2\\pi k}{N})-isin(-\\frac{2\\pi k}{N}) = cos(\\frac{2\\pi k}{N})+isin(\\frac{2\\pi k}{N}) = \\overline{w_N^k}$$\n",
    "\n",
    "Therefore, $$c_{N-k}=\\Sigma^{N-1}_{j=0}f_jw_N^{(N-k)j}=\\Sigma^{N-1}_{j=0}f_j\\overline{w_N^{k}}^j=\\overline{c_k}$$"
   ]
  },
  {
   "cell_type": "markdown",
   "metadata": {},
   "source": [
    "### 2."
   ]
  },
  {
   "cell_type": "markdown",
   "metadata": {},
   "source": [
    "$$c_k = \\Sigma^{N-1}_{j=0}f_je^{-i2\\pi kj/N} = \\Sigma^{N-1}_{j=0}f_j(cos(2\\pi kj/N)-isin(2\\pi kj/N)),\\,for\\,j=0,1,...,N-1$$"
   ]
  },
  {
   "cell_type": "markdown",
   "metadata": {},
   "source": [
    "$$a_k=\\frac{2}{N}\\Sigma^{N-1}_{j=0}f_jcos((2\\pi kj/N)),\\, for\\, k=0,1,..,N/2$$"
   ]
  },
  {
   "cell_type": "markdown",
   "metadata": {},
   "source": [
    "$$b_k = \\frac{2}{N}\\Sigma^{N-1}_{j=0}f_jsin(kj(2\\pi kj/N)),\\,for\\,k=1,...,N/2-1$$"
   ]
  },
  {
   "cell_type": "markdown",
   "metadata": {},
   "source": [
    "Consider the case when $k = 0$.\n",
    "\n",
    "$$c_0=\\Sigma^{N-1}_{j=0}f_j$$\n",
    "\n",
    "$$a_0 = \\frac{2}{N}\\Sigma^{N-1}_{j=0}f_jcos(0)=\\frac{2}{N}\\Sigma^{N-1}_{j=0}f_j$$\n",
    "\n",
    "$$b_0=\\frac{2}{N}\\Sigma^{N-1}_{j=0}f_jsin(0)=0$$\n",
    "\n",
    "$$a_0 +b_0 = \\frac{2}{N}c_0$$"
   ]
  },
  {
   "cell_type": "markdown",
   "metadata": {},
   "source": [
    "Similarly, we have\n",
    "\n",
    "$$a_k = \\frac{2}{N}Re(c_k)=\\frac{1}{N}(c_k+\\overline{c_k})=\\frac{1}{N}(c_k+c_{N-k})$$\n",
    "\n",
    "$$b_k=-\\frac{2}{N}Im(c_k)=-\\frac{1}{N}(c_k-\\overline{c_k})=-\\frac{1}{N}(c_k-c_{N-k})$$"
   ]
  },
  {
   "cell_type": "markdown",
   "metadata": {},
   "source": [
    "### 3."
   ]
  },
  {
   "cell_type": "markdown",
   "metadata": {},
   "source": [
    "Let $f_j = e^{sinx_j}, x_j = j2\\pi/N$ for $j = 0,1,...,N-1$\n",
    "\n",
    "According to the note, $$P_N(x) = \\frac{a_0}{2} + \\sum_{k=1}^{\\frac{N}{2} - 1}(a_k\\cos kx + b_k\\sin kx) + \\frac{a_{N/2}}{2}\\cos (\\frac{NX}{2})$$\n",
    "\n",
    "So, $$P_N'(x) = \\sum_{k=1}^{\\frac{N}{2} - 1}(-ka_k\\sin kx + kb_k\\cos kx)$$"
   ]
  },
  {
   "cell_type": "code",
   "execution_count": 6,
   "metadata": {},
   "outputs": [],
   "source": [
    "import numpy as np\n",
    "import numpy.linalg as npla\n",
    "import math\n",
    "\n",
    "# define f_j\n",
    "def f1(x):\n",
    "    return np.exp(np.sin(x))\n",
    "\n",
    "# define the derivative of f_j\n",
    "def f_prime(x):\n",
    "    return np.cos(x) * np.exp(np.sin(x))"
   ]
  },
  {
   "cell_type": "code",
   "execution_count": 7,
   "metadata": {},
   "outputs": [],
   "source": [
    "# implement P'n\n",
    "def p_prime(f,x,N):\n",
    "    #calculate the fourier coefficient\n",
    "    c = np.fft.fft(f)\n",
    "    for k in range(N//2):\n",
    "        c[k] *= 1j * k\n",
    "    for k in range(N//2 + 1, N): \n",
    "        c[k] *= 1j * (k-N)\n",
    "    c[N//2] = 0\n",
    "    c_real = 2/N * c.real\n",
    "    c_imag = 2/N * c.imag\n",
    "    \n",
    "    #define a_k and b_k\n",
    "    a = np.zeros(N//2 + 1) \n",
    "    b = np.zeros(N//2 + 1)\n",
    "    \n",
    "    #then transform c_k to a_k and b_k\n",
    "    for i in range(N//2 + 1): \n",
    "        a[i] = c_real[i] \n",
    "        b[i] = -c_imag[i]\n",
    "    \n",
    "    #set the terms in P_n\n",
    "    first = 0\n",
    "    last = 0\n",
    "    first = a[0]/2\n",
    "    last = a[N//2]/2 * np.cos(N*x/2)\n",
    "    \n",
    "    s=0\n",
    "    for k in range(1,N//2):\n",
    "        s += a[k]*np.cos(k*x) + b[k]*np.sin(k*x)\n",
    "    \n",
    "    return first + s + last"
   ]
  },
  {
   "cell_type": "code",
   "execution_count": 8,
   "metadata": {
    "scrolled": false
   },
   "outputs": [
    {
     "name": "stdout",
     "output_type": "stream",
     "text": [
      "[4.31791110e-03 3.44909971e-03 3.27073415e-16 3.44909971e-03\n",
      " 4.31791110e-03 2.72947135e-03 9.62900417e-17 2.72947135e-03]\n"
     ]
    }
   ],
   "source": [
    "# Now calculate the error\n",
    "N = 8\n",
    "f = np.zeros(N)\n",
    "error = np.zeros(N)\n",
    "\n",
    "for j in range(N):\n",
    "    f[j] = f1(j*2*np.pi/N)\n",
    "\n",
    "for j in range(N):\n",
    "    error[j] = npla.norm(f_prime(j*2*np.pi/N) - p_prime(f = f, x = j*2*np.pi/N, N = N))\n",
    "\n",
    "print(error)"
   ]
  },
  {
   "cell_type": "markdown",
   "metadata": {},
   "source": [
    "### 4."
   ]
  },
  {
   "cell_type": "markdown",
   "metadata": {},
   "source": [
    "(a) \n",
    "\n",
    "Let $q\\in \\mathcal{P}_n$ be a polynomial of degree at most n.\n",
    "\n",
    "Then without loss of generality, we can write $$q = \\sum_{j=0}^nb_j\\psi_j$$\n",
    "\n",
    "Then, $$\\langle f - P_n,q\\rangle = \\langle f,q\\rangle - \\langle P_n,q\\rangle \\\\ = \\langle f ,\\sum_{j=0}^nb_j\\psi_j\\rangle - \\langle \\sum_{j=0}^na_j\\psi_j, \\sum_{j=0}^nb_j\\psi_j\\rangle \\\\ = \\sum_{j=0}^na_j \\langle f,\\psi_j\\rangle - \\sum_{j=0}^na_jb_j\\langle \\psi_j,\\psi_j\\rangle \\\\ = \\sum_{j=0}^na_jb_j\\langle \\psi_j,\\psi_j\\rangle - \\sum_{j=0}^na_jb_j\\langle \\psi_j,\\psi_j\\rangle = 0 $$"
   ]
  },
  {
   "cell_type": "markdown",
   "metadata": {},
   "source": [
    "Hence, $\\langle f - P_n,q\\rangle = 0$ for $\\forall q\\in \\mathcal{P}_n $.\n",
    "\n",
    "Therefore, the error $f - P_n$ is orthogonal to the space $\\mathcal{P}_n$."
   ]
  },
  {
   "cell_type": "markdown",
   "metadata": {},
   "source": [
    "(b) \n",
    "\n",
    "Note that $P_n + (f - P_n) = f$, where $(f - P_n)$ is orthogonal to $P_n$.\n",
    "\n",
    "So f is sum of two orthogonal vectors.\n",
    "\n",
    "Then we can let U and V be two subspaces of $\\mathcal{P}_n$ such that $$U = \\lbrace P_n:P_n \\in \\mathcal{P}_n\\rbrace and V = \\lbrace f - P_n:P_n \\in \\mathcal{P}_n\\rbrace $$\n",
    "\n",
    "So there exists an orthogonal project F of the space $\\mathcal{P}_n$ onto the subspaces containing U and V.\n",
    "\n",
    "Then, since $f = P_n + (f - P_n)$ $$ F_U(f) = F_U(f-P_n) + F_U(P_n) = 0 + P_n = P_n $$ \n",
    "\n",
    "Therefore, $$ F_U(f-P_n) = P_n - P_n = 0.$$"
   ]
  },
  {
   "cell_type": "markdown",
   "metadata": {},
   "source": [
    "### 5. "
   ]
  },
  {
   "cell_type": "markdown",
   "metadata": {},
   "source": [
    "(a) \n",
    "\n",
    "Legendre polynomial can be obtained by Rodrigues Formula, which is \n",
    "\n",
    "$$ P_n(x) = \\frac{1}{2^nn!}\\frac{d^n}{dx^n}(x^2-1)^n, n = 0,1,2,3,...$$"
   ]
  },
  {
   "cell_type": "markdown",
   "metadata": {},
   "source": [
    "$$n = 0, P_0(x) = \\frac{1}{2^0\\times0!} = 1 $$\n",
    "\n",
    "$$n = 1, P_1(x) = \\frac{1}{2\\times1!}\\frac{d}{dx}(x^2-1)= \\frac{1}{2}\\times2x = x$$\n",
    "\n",
    "$$n = 2, P_2(x) = \\frac{1}{2^2\\times2!}\\frac{d^2}{dx^2}(x^2-1)^2= \\frac{1}{2}(3x^2-1)$$\n",
    "\n",
    "$$n = 3, P_3(x) = \\frac{1}{2^3\\times3!}\\frac{d^3}{dx^3}(x^2-1)^3= \\frac{1}{2}(5x^3-3x)$$"
   ]
  },
  {
   "cell_type": "markdown",
   "metadata": {},
   "source": [
    "Therefore, $$P_0(x) = 1$$\n",
    "\n",
    "$$P_1(x) = x$$\n",
    "\n",
    "$$P_2(x) = \\frac{1}{2}(3x^2-1)$$\n",
    "\n",
    "$$P_3(x) = \\frac{1}{2}(5x^3-3x)$$"
   ]
  },
  {
   "cell_type": "markdown",
   "metadata": {},
   "source": [
    "(b) \n",
    "\n",
    "$f(x) = e^x$\n",
    "\n",
    "$p_n(x)=a_0\\phi_0(x)+a_1\\phi_1(x)+a_2\\phi_2(x)+...$\n",
    "\n",
    "For polynomial of degree 1: $$p_1(x)=a_0+a_1x$$\n",
    "\n",
    "$$\\alpha_0 = 2$$\n",
    "\n",
    "$$a_0 = 1.1752$$\n",
    "\n",
    "$$\\alpha_1 = \\frac{2}{3}$$\n",
    "\n",
    "$$a_1 = 1.10363$$\n",
    "\n",
    "$$\\alpha_2 = \\frac{8}{45}$$\n",
    "\n",
    "$$a_2 = 0.53672$$\n",
    "\n",
    "$$\\alpha_3 = \\frac{8}{175}$$\n",
    "\n",
    "$$a_3 = 0.17613$$\n",
    "\n",
    "Therefore, $$p_1(x)=1.1752+1.10363x$$\n",
    "\n",
    "$$p_2(x)=1.1752+1.10363x+0.53672(x^2-\\frac{1}{3})$$\n",
    "\n",
    "$$p_3(x)=1.1752+1.10363x+0.53672(x^2-\\frac{1}{3})+0.17613(x^3-\\frac{3}{5}x)$$"
   ]
  },
  {
   "cell_type": "markdown",
   "metadata": {},
   "source": [
    "(c)\n",
    "\n",
    "We want to find $p_n(x)$ such that $\\int^b_a[f(x)-p_n(x)]^2 dx = min$\n",
    "\n",
    "When $f(x)=p_n(x)$, $f(x)-p_n(x)=0$ and its square reaches the minimum.\n",
    "\n",
    "Therefore, \n",
    "$p_4(x) = x^3 $ as the answer we calculated for $a_4$ is equal to 0.\n",
    "\n"
   ]
  }
 ],
 "metadata": {
  "kernelspec": {
   "display_name": "Python 3",
   "language": "python",
   "name": "python3"
  },
  "language_info": {
   "codemirror_mode": {
    "name": "ipython",
    "version": 3
   },
   "file_extension": ".py",
   "mimetype": "text/x-python",
   "name": "python",
   "nbconvert_exporter": "python",
   "pygments_lexer": "ipython3",
   "version": "3.8.3"
  }
 },
 "nbformat": 4,
 "nbformat_minor": 4
}
