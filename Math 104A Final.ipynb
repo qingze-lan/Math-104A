{
 "cells": [
  {
   "cell_type": "markdown",
   "metadata": {},
   "source": [
    "## MATH 104A Final \n",
    "\n",
    "### Qingze Lan 3046380"
   ]
  },
  {
   "cell_type": "markdown",
   "metadata": {},
   "source": [
    "### 1.\n",
    "(1) By Trapzoidal Rule, $$\\int_a^b f(x)dx \\approx \\frac{1}{2}(b-a)(f(b)+f(a))$$"
   ]
  },
  {
   "cell_type": "markdown",
   "metadata": {},
   "source": [
    "Hence, $$\\int_{0}^{\\frac{\\pi}{2}}{\\sin2xdx} \\approx \\frac{1}{2}(\\frac{\\pi}{2}-0)(\\sin0+\\sin\\pi) = \\frac{\\pi}{4}\\times(0+0) = 0 $$"
   ]
  },
  {
   "cell_type": "markdown",
   "metadata": {},
   "source": [
    "(2)"
   ]
  },
  {
   "cell_type": "code",
   "execution_count": 14,
   "metadata": {},
   "outputs": [],
   "source": [
    "from math import sin,pi\n",
    "# define the function f(x)\n",
    "def f(x):\n",
    "    return sin(2*x)\n",
    "# Implementing trapezoidal method\n",
    "def Trapezoidal(a,b,n):\n",
    "    # calculating step size\n",
    "    h = (b - a) / n\n",
    "    # Computing sum of first and last terms in above formula \n",
    "    s = (f(a) + f(b)) \n",
    "    # Adding middle terms in above formula \n",
    "    i = 1\n",
    "    while i < n: \n",
    "        s += 2 * f(a + i * h) \n",
    "        i += 1\n",
    "    \n",
    "    return ((h / 2) * s)"
   ]
  },
  {
   "cell_type": "code",
   "execution_count": 15,
   "metadata": {
    "scrolled": true
   },
   "outputs": [
    {
     "name": "stdout",
     "output_type": "stream",
     "text": [
      "0.9942818882921578\n"
     ]
    }
   ],
   "source": [
    "# Using the Composite Trapzoidal Rule to approximate the integral\n",
    "print(Trapezoidal(0,math.pi/2,12))"
   ]
  },
  {
   "cell_type": "markdown",
   "metadata": {},
   "source": [
    "(3)"
   ]
  },
  {
   "cell_type": "code",
   "execution_count": 16,
   "metadata": {},
   "outputs": [
    {
     "name": "stdout",
     "output_type": "stream",
     "text": [
      "1.00000163443858\n"
     ]
    }
   ],
   "source": [
    "# define the Composite Simpson’s Rule\n",
    "def Simpson(a,b,n):\n",
    "    return Trapezoidal(a,b,n) + 4/3 * (Trapezoidal(a,b,2*n) - Trapezoidal(a,b,n))\n",
    "\n",
    "# Using the Composite Simpson’s Rule to approximate the integral\n",
    "print(Simpson(0,math.pi/2,12))"
   ]
  },
  {
   "cell_type": "markdown",
   "metadata": {},
   "source": [
    "(4) Given that $x_j = jh$ with $h = \\frac{\\pi}{2n}$ and $j = 0,1,...,n$ for a positive integer n.\n",
    "\n",
    "Using the formula for error term,\n",
    "$$E[f] = -\\frac{1}{12}(b-a)h^2\\times[\\frac{1}{N}\\sum^{N-1}_{j=0}{f''(\\xi_j)}]\\\\\n",
    "= -\\frac{1}{12}(b-a)\\frac{\\pi^2}{4n^2}\\times[\\frac{1}{N}\\sum^{N-1}_{j=0}{f''(\\xi_j)}]$$"
   ]
  },
  {
   "cell_type": "markdown",
   "metadata": {},
   "source": [
    "$f(x) = \\sin(2x)$, so $f''(x) = -4\\sin(2x)$\n",
    "\n",
    "And $\\frac{1}{N}\\sum^{N-1}_{j=0}{f''(\\xi_j)} = \\frac{1}{b-a}\\int_a^b f''(x)dx$ as $N \\to \\infty$\n",
    "\n",
    "Hence, $$\\frac{1}{N}\\sum^{N-1}_{j=0}{f''(\\xi_j)} = \\frac{2}{\\pi}\\int_{\\frac{\\pi}{2}}^{0}-4\\sin(2x)dx \\\\ = \\frac{8}{\\pi}[\\frac{\\cos(2x)}{2}]\\vert_0^{\\frac{\\pi}{2}} = -\\frac{8}{\\pi}$$"
   ]
  },
  {
   "cell_type": "markdown",
   "metadata": {},
   "source": [
    "Thus, $$|error| = |-\\frac{1}{12}(\\frac{\\pi}{2}-0)\\frac{\\pi^2}{4n^2}(-\\frac{8}{\\pi})| < 0.00002 $$"
   ]
  },
  {
   "cell_type": "markdown",
   "metadata": {},
   "source": [
    "Therefore, we can calculate that $n > 202.7889$."
   ]
  },
  {
   "cell_type": "markdown",
   "metadata": {},
   "source": [
    "(5) Given that a quadrature rule $Q_h(f)$ for $\\int_a^b f(x)dx$ satisfies\n",
    "\n",
    "$$Q_h(f) = \\int_a^b f(x)dx + c_1h^4 + c_2h^6 +...+c_kh^{2k+2} + ...$$"
   ]
  },
  {
   "cell_type": "markdown",
   "metadata": {},
   "source": [
    "Then $Q_{\\frac{h}{2}}(f) = \\int_a^b f(x)dx + c_1(\\frac{h}{2})^4 + c_2(\\frac{h}{2})^6 +...+c_k(\\frac{h}{2})^{2k+2} + ...$"
   ]
  },
  {
   "cell_type": "markdown",
   "metadata": {},
   "source": [
    "Multiplying both sides by 16, we can get\n",
    "\n",
    "$$ 16Q_{\\frac{h}{2}}(f) = 16\\int_a^b f(x)dx + c_1h^4 + c_2\\frac{h^6}{4} +...+ c_k\\frac{h^{2k+2}}{2^{2k-2}} +...$$"
   ]
  },
  {
   "cell_type": "markdown",
   "metadata": {},
   "source": [
    "So $$16Q_{\\frac{h}{2}}(f) - Q_h(f) = 15\\int_a^b f(x)dx + (\\frac{1}{4}-1)c_2h^6 +...+ (\\frac{1}{2^{2k-2}}-1)c_kh^{2k+2} + ...$$"
   ]
  },
  {
   "cell_type": "markdown",
   "metadata": {},
   "source": [
    "$\\Rightarrow$ $$\\frac{16}{15}Q_{\\frac{h}{2}}(f) - \\frac{1}{15}Q_h(f) = \\int_a^b f(x)dx + O(h^6)$$"
   ]
  },
  {
   "cell_type": "markdown",
   "metadata": {},
   "source": [
    "Therefore, the formula combines $Q_h(f)$ and $Q_{\\frac{h}{2}}(f)$ to give $\\int_a^b f(x)dx + O(h^6)$ is $\\frac{16}{15}Q_{\\frac{h}{2}}(f) - \\frac{1}{15}Q_h(f)$."
   ]
  },
  {
   "cell_type": "markdown",
   "metadata": {},
   "source": [
    "### 2.\n",
    "\n",
    "Given that $$\n",
    "s(x) = \n",
    "\\begin{cases}\n",
    "s_0(x)&-1 \\leq x \\leq 0\\\\s_1(x)&0 \\leq x \\leq 1\n",
    "\\end{cases}\n",
    "$$"
   ]
  },
  {
   "cell_type": "markdown",
   "metadata": {},
   "source": [
    "$s_0(x) = 1+(x+1)^3$, and $s_1(x)$ is a natural cublic spline on $[-1,1]$ which nodes at -1, 0, -1"
   ]
  },
  {
   "cell_type": "markdown",
   "metadata": {},
   "source": [
    "Assume that $s_1(x) = ax^3+bx^2+cx+d$ for $0\\le x \\le 1$, have two continuous derivatives."
   ]
  },
  {
   "cell_type": "markdown",
   "metadata": {},
   "source": [
    "Then $\n",
    "s'(x) = \n",
    "\\begin{cases}\n",
    "s_0'(x) = 3(x+1)^3&-1 \\leq x \\leq 0\\\\s_1'(x) = 3ax^2+2bx+c&0 \\leq x \\leq 1\n",
    "\\end{cases}\n",
    "$"
   ]
  },
  {
   "cell_type": "markdown",
   "metadata": {},
   "source": [
    "And $\n",
    "s''(x) = \n",
    "\\begin{cases}\n",
    "s_0''(x) = 6(x+1)&-1 \\leq x \\leq 0\\\\s_1''(x) = 6ax+2b&0 \\leq x \\leq 1\n",
    "\\end{cases}\n",
    "$"
   ]
  },
  {
   "cell_type": "markdown",
   "metadata": {},
   "source": [
    "At node $0,\\quad$\n",
    "$s_0(x) = s_1(x)$, $\\Rightarrow d = 2$\n",
    "\n",
    "$s_0'(x) = s_1'(x)$, $\\Rightarrow c = 3$\n",
    "\n",
    "$s_0''(x) = s_1''(x)$, $\\Rightarrow b = 3$"
   ]
  },
  {
   "cell_type": "markdown",
   "metadata": {},
   "source": [
    "Since for natural cublic spline $s''$ at end points euqals $0.$ \n",
    "\n",
    "i.e. $s_1''(1) = 0$, so $6a+2b = 0 \\Rightarrow a = -1$"
   ]
  },
  {
   "cell_type": "markdown",
   "metadata": {},
   "source": [
    "Therefore, $s_1(x) = -x^3+3x^2+3x+2$ for $0 \\leq x \\leq 1$."
   ]
  },
  {
   "cell_type": "markdown",
   "metadata": {},
   "source": [
    "### 3."
   ]
  },
  {
   "cell_type": "markdown",
   "metadata": {},
   "source": [
    "See PDF."
   ]
  },
  {
   "cell_type": "markdown",
   "metadata": {},
   "source": [
    "### 4."
   ]
  },
  {
   "cell_type": "markdown",
   "metadata": {},
   "source": [
    "See PDF."
   ]
  }
 ],
 "metadata": {
  "kernelspec": {
   "display_name": "Python 3",
   "language": "python",
   "name": "python3"
  },
  "language_info": {
   "codemirror_mode": {
    "name": "ipython",
    "version": 3
   },
   "file_extension": ".py",
   "mimetype": "text/x-python",
   "name": "python",
   "nbconvert_exporter": "python",
   "pygments_lexer": "ipython3",
   "version": "3.8.3"
  }
 },
 "nbformat": 4,
 "nbformat_minor": 4
}
