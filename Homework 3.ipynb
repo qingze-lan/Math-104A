{
 "cells": [
  {
   "cell_type": "markdown",
   "metadata": {},
   "source": [
    "# Homework 3  Math 104A"
   ]
  },
  {
   "cell_type": "markdown",
   "metadata": {},
   "source": [
    "## Qingze Lan   3046380\n",
    "\n",
    "### Question 1\n",
    "\n",
    "(a). Lagrange form of $p_n(x)$:\n",
    "$$\\frac{(x-x_1)(x-x_2)...(x-x_n)}{(x_0-x_1)(x_0-x_2)...(x_0-x_n)}f(x_0)+\\frac{(x-x_0)(x-x_2)...(x-x_n)}{(x_1-x_0)(x_1-x_2)...(x_0-x_n)}f(x_1)+...\\\\+\\frac{(x-x_0)(x-x_1)...(x-x_{n-1})}{(x_n-x_0)(x_n-x_1)...(x_n-x_{n-1})}f(x_n)$$"
   ]
  },
  {
   "cell_type": "markdown",
   "metadata": {},
   "source": [
    "Each term is a polynomial with highest degree n.\n",
    "\n",
    "Therefore, the leading coefficient $p_n(x)$ is equal to $$\\Sigma^n_{j=0}\\frac{f_{(x_j)}}{\\Pi ^{n}_{k=0,k\\ne j}(x_j-x_k)}$$"
   ]
  },
  {
   "cell_type": "markdown",
   "metadata": {},
   "source": [
    "For Newton's Form,\n",
    "$$p_n(x) = f[x_0]+f[x_0,x_1](x-x_0)+...+f[x_0.x_1,...,x_n](x-x_0)(x-x_1)...(x-x_{n-1})$$\n"
   ]
  },
  {
   "cell_type": "markdown",
   "metadata": {},
   "source": [
    "From the above equation we can see that the leading coefficient of $p_n(x)$ in Newton's form is only depend on the last term as it has the highest degree: n, which is same as that of the lagrange form of $p_n(x)$.\n"
   ]
  },
  {
   "cell_type": "markdown",
   "metadata": {},
   "source": [
    "The coefficient of $x^n$ of the term $(x-x_0)(x-x_1)...(x-x_{n-1})$ is 1. \n",
    "\n",
    "Therefore, the leading coefficient for Newton's form is $$f[x_0,x_1,...,x_n]*1 = f[x_0,x_1,...,x_n]$$"
   ]
  },
  {
   "cell_type": "markdown",
   "metadata": {},
   "source": [
    "As we are using these two forms to represent the same $p_n(x)$,the leading coefficient must be the same, so we can deduce that\n",
    "$$f[x_0,x_1,...,x_n] = \\Sigma^n_{j=0}\\frac{f_{(x_j)}}{\\Pi ^{n}_{k=0,k\\ne j}(x_j-x_k)}$$"
   ]
  },
  {
   "cell_type": "markdown",
   "metadata": {},
   "source": [
    "(b). For any permutation of $x_0,x_1,...x_n$, the number of the total nodes will not change and will always equal to n. RHS of equation (1) is the sum of $\\frac{f(x_j)}{\\Pi^n_{k=0,k\\ne j}}$ for each nodes in $x_0,x_1,...,x_n$. Because of the commutative law of addition, the final result will not change if we change the permutation of these terms. Therefore, RHS of equation (1) will not change by changing the permutation of the nodes. As a result, the LHS of this equation, the divided differences, also don't change. "
   ]
  },
  {
   "cell_type": "markdown",
   "metadata": {},
   "source": [
    "### Question 2\n",
    "\n",
    "(a)"
   ]
  },
  {
   "cell_type": "code",
   "execution_count": 1,
   "metadata": {},
   "outputs": [
    {
     "data": {
      "text/plain": [
       "[1, 5, 10]"
      ]
     },
     "execution_count": 1,
     "metadata": {},
     "output_type": "execute_result"
    }
   ],
   "source": [
    "import numpy as np\n",
    "import math\n",
    "# change the given qseudocode into python code \n",
    "# listofx refers to the list of x we have. \n",
    "# listofy refers to the list of f(x) we get. \n",
    "def coef(listofx,listofy):\n",
    "    n = len(listofx)-1\n",
    "    C=np.zeros(n+1)\n",
    "    for j in range(n+1):\n",
    "        C[j]=listofy[j]\n",
    "    for i in range(1,n+1):\n",
    "        for j in range(n,i-1,-1):\n",
    "            C[j]=(C[j]-C[j-1])/(listofx[j]-listofx[j-i])\n",
    "    return C\n",
    "# code for evaluate the interpolation polynomial in Newton's form\n",
    "def Newton(listofc, listofx, X):\n",
    "    n = len(listofc)-1\n",
    "    # base case\n",
    "    polynomial = listofc[n]\n",
    "    for j in range(n-1,-1,-1):\n",
    "        polynomial = listofc[j]+(X-listofx[j])*polynomial\n",
    "    return polynomial\n",
    "\n",
    "# Check it \n",
    "[Newton([1,1,1,0],[0,1,2,3],0), Newton([1,1,1,0],[0,1,2,3],2),Newton([1,1,1,0],[0,1,2,3],3)]"
   ]
  },
  {
   "cell_type": "markdown",
   "metadata": {},
   "source": [
    "(b)"
   ]
  },
  {
   "cell_type": "code",
   "execution_count": 2,
   "metadata": {},
   "outputs": [],
   "source": [
    "# Define the function f(x) = e^(-x^2)\n",
    "def exp2(x):\n",
    "    xi = float(math.exp(-x**2))\n",
    "    return xi"
   ]
  },
  {
   "cell_type": "code",
   "execution_count": 3,
   "metadata": {},
   "outputs": [],
   "source": [
    "# Get the list of y we need\n",
    "def listy(f,listofx):\n",
    "    listy = []\n",
    "    for xi in listofx:\n",
    "        listy.append(f(xi))\n",
    "    return listy\n",
    "\n",
    "# Get listofx\n",
    "def listx(n):\n",
    "    listofx = list(np.linspace(-1,1,n+1))\n",
    "    return listofx\n",
    "\n",
    "y = listy(exp2,listx(10))\n",
    "# nodes used\n",
    "x1 = listx(10)\n",
    "# nodes to evaluate \n",
    "x2 = np.linspace(-1,1,100)"
   ]
  },
  {
   "cell_type": "code",
   "execution_count": 4,
   "metadata": {},
   "outputs": [
    {
     "data": {
      "text/plain": [
       "[<matplotlib.lines.Line2D at 0x7ff52b6fba00>]"
      ]
     },
     "execution_count": 4,
     "metadata": {},
     "output_type": "execute_result"
    },
    {
     "data": {
      "image/png": "[encoded data removed]",
      "text/plain": [
       "<Figure size 432x288 with 1 Axes>"
      ]
     },
     "metadata": {},
     "output_type": "display_data"
    }
   ],
   "source": [
    "import matplotlib.pyplot as plt\n",
    "plt.style.use('ggplot')\n",
    "# pointsP refers to p_10(x)\n",
    "pointsP = np.array([Newton(coef(x1,y),x1,x) for x in x2])\n",
    "\n",
    "# pointsF refers to f(x)\n",
    "pointsF = np.array([exp2(x) for x in x2])\n",
    "\n",
    "# pointsE refers to the error f(x)-p_10(x)\n",
    "pointsE = np.array([exp2(x)-Newton(coef(x1,y),x1,x) for x in x2])\n",
    "#plt.plot(x2,pointsP)\n",
    "#plt.plot(x2,pointsF)\n",
    "plt.plot(x2,pointsE)"
   ]
  },
  {
   "cell_type": "markdown",
   "metadata": {},
   "source": [
    "### Question 3"
   ]
  },
  {
   "cell_type": "markdown",
   "metadata": {},
   "source": [
    "Let $f(x) = x-e^{-x}$\n",
    "\n",
    "Let $y_0=f(x_0)$ and $y_1=f(x_1)$\n",
    "\n",
    "Let $f(x) = y$\n",
    "\n",
    "$ y_0 = f(0.5) = -0.106530659712633$\n",
    "\n",
    "$y_1 = f(0.6) = 0.051188363905973$\n",
    "\n",
    "$x_0 = 0.5$\n",
    "\n",
    "$x_1 = 0.6$"
   ]
  },
  {
   "cell_type": "markdown",
   "metadata": {},
   "source": [
    "Using these data $x = \\frac{y-y_1}{y_0-y_1}x_0+\\frac{y-y_0}{y_1-y_0}x_1$"
   ]
  },
  {
   "cell_type": "code",
   "execution_count": 5,
   "metadata": {},
   "outputs": [
    {
     "data": {
      "text/plain": [
       "-0.15771902361860599"
      ]
     },
     "execution_count": 5,
     "metadata": {},
     "output_type": "execute_result"
    }
   ],
   "source": [
    "y0 = -0.106530659712633\n",
    "y1 = 0.051188363905973\n",
    "y0-y1"
   ]
  },
  {
   "cell_type": "markdown",
   "metadata": {},
   "source": [
    "$$p_0(y) = \\frac{y-y_1}{y_0-y_1}$$"
   ]
  },
  {
   "cell_type": "code",
   "execution_count": 6,
   "metadata": {},
   "outputs": [
    {
     "data": {
      "text/plain": [
       "0.32455415162698453"
      ]
     },
     "execution_count": 6,
     "metadata": {},
     "output_type": "execute_result"
    }
   ],
   "source": [
    "# Get P0(0)\n",
    "p0_0 = -y1/(y0-y1)\n",
    "p0_0"
   ]
  },
  {
   "cell_type": "code",
   "execution_count": 7,
   "metadata": {},
   "outputs": [
    {
     "data": {
      "text/plain": [
       "0.6754458483730156"
      ]
     },
     "execution_count": 7,
     "metadata": {},
     "output_type": "execute_result"
    }
   ],
   "source": [
    "# Get P1(0)\n",
    "p1_0 = (0-y0)/(y1-y0)\n",
    "p1_0"
   ]
  },
  {
   "cell_type": "markdown",
   "metadata": {},
   "source": [
    "$$y^{-1}(0) = \\chi = p_0(0)(0.5)+p_1(0)(0.6)$$"
   ]
  },
  {
   "cell_type": "code",
   "execution_count": 8,
   "metadata": {},
   "outputs": [
    {
     "data": {
      "text/plain": [
       "0.5675445848373015"
      ]
     },
     "execution_count": 8,
     "metadata": {},
     "output_type": "execute_result"
    }
   ],
   "source": [
    "# Get the Result\n",
    "p0_0*0.5+p1_0*0.6"
   ]
  },
  {
   "cell_type": "markdown",
   "metadata": {},
   "source": [
    "### Question 4"
   ]
  },
  {
   "cell_type": "markdown",
   "metadata": {},
   "source": [
    "Construct the table of divided differences:\n",
    "\n",
    "0   0\n",
    "\n",
    "0   0  0  \n",
    "\n",
    "1   2  2  2\n",
    "\n",
    "1   2  3  1  -1\n",
    "\n",
    "$p(x) = 0+0(x-0)+2(x-0)^2-1(x-0)^2(x-1)\\\\=2x^2-x^2(x-1)\\\\=x^2(2-x+1)\\\\=x^2(3-x)\\\\=3x^2-x^3$"
   ]
  },
  {
   "cell_type": "markdown",
   "metadata": {},
   "source": [
    "$p'(x)=6x-3x^2$"
   ]
  },
  {
   "cell_type": "markdown",
   "metadata": {},
   "source": [
    "### Question 5"
   ]
  },
  {
   "cell_type": "markdown",
   "metadata": {},
   "source": [
    "For natural spline S(x), we know that $z_0 = z_n = 0$. \n",
    "$$s_j(x) = A_j(x-x_j)^3+B_j(x-x_j)^2+c_j(x-x_j)+D_j$$\n",
    "$$h_j=x_{j+1}-x_j$$\n",
    "$$z_j=s''_j(x_j)$$\n",
    "$$z_{j+1}=s''_j(x_{j+1})$$\n",
    "$$A_j=\\frac{1}{6h_j}(z_{j+1}-z_j)$$\n",
    "$$B_j=\\frac{1}{2}z_j$$\n",
    "$$C_j= \\frac{1}{h_j}(f_{j+1}-f_j)-\\frac{1}{6}h_j(z_{j+1}+2z_j)$$\n",
    "$$D_j=f_j = y_j$$ \n",
    "h is not a constant as the points may not be equidistributed. \n",
    "\n",
    "We need to write the linear system of equations to calculate the value of $z_1,z_2,....,z_{n-1}$"
   ]
  },
  {
   "cell_type": "code",
   "execution_count": 9,
   "metadata": {},
   "outputs": [],
   "source": [
    "# Represent aj, bj, and cj as defined\n",
    "# listofx and listofy is the given points(x_0,y_0), (x_1,y_1),...,(x_n,y_n), where x_0<x_1<x_2<...<x_n\n",
    "\n",
    "# A is the list of aj, B is list of bj, C is list of cj\n",
    "\n",
    "def A(listofx):\n",
    "    N = len(listofx)\n",
    "    A = []\n",
    "    for j in range(1,N-1):\n",
    "        A.append(2*(listofx[j]-listofx[j-1]+listofx[j+1]-listofx[j]))\n",
    "    return A\n",
    "\n",
    "def B(listofx):\n",
    "    N = len(listofx)\n",
    "    B = []\n",
    "    for j in range(1,N-2):\n",
    "        B.append(listofx[j+1]-listofx[j])\n",
    "    return B\n",
    "def C(listofx):\n",
    "    N = len(listofx)\n",
    "    C = []\n",
    "    for j in range(1,N-2):\n",
    "        C.append(listofx[j+1]-listofx[j])\n",
    "    return C\n",
    "\n",
    "# aj, bj, and cj is the jth item in list A, B, and C\n",
    "\n",
    "# Determine column D: [d_1,d_2,...,d_n-1]^T\n",
    "def D(listofx,listofy):\n",
    "    D = []\n",
    "    N = len(listofx)\n",
    "    for j in range(1,N-1):\n",
    "        D.append(-6/(listofx[j]-listofx[j-1])*(listofy[j]-listofy[j-1])+6/(listofx[j+1]-listofx[j])*(listofy[j+1]-listofy[j]))\n",
    "    return D\n",
    "\n",
    "# The Triadiagonal Solver\n",
    "# determine the factorization coefficients \n",
    "def LM(A,B,C):\n",
    "    N = len(A)\n",
    "    M = []\n",
    "    L = []\n",
    "    M.append(A[0])\n",
    "    for j in range(1,N):\n",
    "        L.append(C[j-1]/M[j-1])\n",
    "        M.append(A[j]-L[j-1]*B[j-1])\n",
    "    return [L,M]\n",
    "# uj is equal to bj so we just use B instead of U. \n",
    "\n",
    "# Forward substitution on Ly = d\n",
    "def Y(A,D,L):\n",
    "    N = len(A)\n",
    "    Y=[]\n",
    "    Y.append(D[0])\n",
    "    for j in range(1,N):\n",
    "        Y.append(D[j]-L[j-1]*Y[j-1])\n",
    "    return Y\n",
    "# Backward substitution to solve Ux = y \n",
    "def Z(Y,M,A,B):\n",
    "    N = len(A)\n",
    "    Z = list(np.zeros(N+1))\n",
    "    Z[N]=0\n",
    "    Z[N-1]=Y[N-1]/M[N-1]\n",
    "    for j in range(N-1,0,-1):\n",
    "        Z[j-1]=(Y[j-1]-B[j-1]*Z[j])/M[j-1]\n",
    "    Z.insert(0,0)\n",
    "    return Z\n",
    "# list Z is the list of z we want to know to calculate the final answer. \n",
    "# Add z0 and zn = 0\n",
    "\n",
    "def sj(x,j,listofx,listofy,Zr):\n",
    "    Aj = 1/6/(listofx[j+1]-listofx[j])*(Zr[j+1]-Zr[j])\n",
    "    Bj = 1/2*(Zr[j])\n",
    "    Cj = 1/(listofx[j+1]-listofx[j])*(listofy[j+1]-listofy[j])-1/6*(listofx[j+1]-listofx[j])*(Zr[j+1]+2*Zr[j])\n",
    "    Dj = listofy[j]\n",
    "    return Aj*(x-listofx[j])**3+Bj*(x-listofx[j])**2+Cj*(x-listofx[j])+Dj"
   ]
  },
  {
   "cell_type": "code",
   "execution_count": 10,
   "metadata": {},
   "outputs": [
    {
     "data": {
      "text/plain": [
       "[<matplotlib.lines.Line2D at 0x7ff52b840490>]"
      ]
     },
     "execution_count": 10,
     "metadata": {},
     "output_type": "execute_result"
    },
    {
     "data": {
      "image/png": "[encoded data removed]",
      "text/plain": [
       "<Figure size 432x288 with 1 Axes>"
      ]
     },
     "metadata": {},
     "output_type": "display_data"
    }
   ],
   "source": [
    "a = [0,0.25,0.5,0.75,1]\n",
    "b = [1,1.25,1.5,1.75,2]\n",
    "a1 = A(a)\n",
    "b1 = B(a)\n",
    "c1 = C(a)\n",
    "d1 = D(a,b)\n",
    "lm1 = LM(a1,b1,c1)\n",
    "l1 = lm1[0]\n",
    "m1 = lm1[1]\n",
    "y1 = Y(a1,d1,l1)\n",
    "z1=Z(y1,m1,a1,b1)\n",
    "q0 = np.linspace(0,0.25,100)\n",
    "points = np.array([sj(t,0,a,b,z1)for t in q0])\n",
    "plt.plot(q0,points)"
   ]
  },
  {
   "cell_type": "markdown",
   "metadata": {},
   "source": [
    "### Question 6"
   ]
  },
  {
   "cell_type": "code",
   "execution_count": 11,
   "metadata": {},
   "outputs": [],
   "source": [
    "listofy = [1.50,0.90,1.00,0.80,0.45,0.20,0.10,0.20,0.25]\n",
    "listoft = [0,0.618,0.935,1.255,1.636,1.905,2.317,2.827,3.330]\n",
    "listofx = [1.50,0.90,0.60,0.35,0.2,0.1,0.5,1,1.5]\n",
    "# For (t,x):\n",
    "A1 = A(listoft)\n",
    "B1 = B(listoft)\n",
    "C1 = C(listoft)\n",
    "D1 = D(listoft,listofx)\n",
    "LM1 = LM(A1,B1,C1)\n",
    "L1 = LM1[0]\n",
    "M1 = LM1[1]\n",
    "Y1 = Y(A1,D1,L1)\n",
    "Z1 = Z(Y1,M1,A1,B1)\n",
    "\n",
    "# For (t,y):\n",
    "A2 = A(listoft)\n",
    "B2 = B(listoft)\n",
    "C2 = C(listoft)\n",
    "D2 = D(listoft,listofy)\n",
    "LM2 = LM(A2,B2,C2)\n",
    "L2 = LM2[0]\n",
    "M2 = LM2[1]\n",
    "Y2 = Y(A2,D2,L2)\n",
    "Z2 = Z(Y2,M2,A2,B2)"
   ]
  },
  {
   "cell_type": "code",
   "execution_count": 12,
   "metadata": {},
   "outputs": [
    {
     "data": {
      "text/plain": [
       "[<matplotlib.lines.Line2D at 0x7ff52b8add60>]"
      ]
     },
     "execution_count": 12,
     "metadata": {},
     "output_type": "execute_result"
    },
    {
     "data": {
      "image/png": "[encoded data removed]",
      "text/plain": [
       "<Figure size 432x288 with 1 Axes>"
      ]
     },
     "metadata": {},
     "output_type": "display_data"
    }
   ],
   "source": [
    "t0 = np.linspace(0,0.618,500)\n",
    "t1 = np.linspace(0.618,0.935,500)\n",
    "t2 = np.linspace(0.935,1.255,500)\n",
    "t3 = np.linspace(1.255,1.636,500)\n",
    "t4 = np.linspace(1.636,1.905,500)\n",
    "t5 = np.linspace(1.905,2.317,500)\n",
    "t6 = np.linspace(2.317,2.827,500)\n",
    "t7 = np.linspace(2.827,3.330,500)\n",
    "\n",
    "points_t0x = np.array([sj(t,0,listoft,listofx,Z1)for t in t0])\n",
    "points_t1x = np.array([sj(t,1,listoft,listofx,Z1)for t in t1])\n",
    "points_t2x = np.array([sj(t,2,listoft,listofx,Z1)for t in t2])\n",
    "points_t3x = np.array([sj(t,3,listoft,listofx,Z1)for t in t3])\n",
    "points_t4x = np.array([sj(t,4,listoft,listofx,Z1)for t in t4])\n",
    "points_t5x = np.array([sj(t,5,listoft,listofx,Z1)for t in t5])\n",
    "points_t6x = np.array([sj(t,6,listoft,listofx,Z1)for t in t6])\n",
    "points_t7x = np.array([sj(t,7,listoft,listofx,Z1)for t in t7])\n",
    "\n",
    "points_t0y = np.array([sj(t,0,listoft,listofy,Z2)for t in t0])\n",
    "points_t1y = np.array([sj(t,1,listoft,listofy,Z2)for t in t1])\n",
    "points_t2y = np.array([sj(t,2,listoft,listofy,Z2)for t in t2])\n",
    "points_t3y = np.array([sj(t,3,listoft,listofy,Z2)for t in t3])\n",
    "points_t4y = np.array([sj(t,4,listoft,listofy,Z2)for t in t4])\n",
    "points_t5y = np.array([sj(t,5,listoft,listofy,Z2)for t in t5])\n",
    "points_t6y = np.array([sj(t,6,listoft,listofy,Z2)for t in t6])\n",
    "points_t7y = np.array([sj(t,7,listoft,listofy,Z2)for t in t7])\n",
    "plt.plot(t0,points_t0y)\n",
    "plt.plot(t1,points_t1y)\n",
    "plt.plot(t2,points_t2y)\n",
    "plt.plot(t3,points_t3y)"
   ]
  }
 ],
 "metadata": {
  "kernelspec": {
   "display_name": "Python 3",
   "language": "python",
   "name": "python3"
  },
  "language_info": {
   "codemirror_mode": {
    "name": "ipython",
    "version": 3
   },
   "file_extension": ".py",
   "mimetype": "text/x-python",
   "name": "python",
   "nbconvert_exporter": "python",
   "pygments_lexer": "ipython3",
   "version": "3.8.3"
  }
 },
 "nbformat": 4,
 "nbformat_minor": 4
}
